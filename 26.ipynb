{
 "cells": [
  {
   "cell_type": "markdown",
   "id": "6dbadd54-4c6c-49d3-bf70-465b42cea5ca",
   "metadata": {},
   "source": [
    "Q1. Is there any difference in the data type of variables list_ and array_list? If there is then write a code to print the data types of both the variables."
   ]
  },
  {
   "cell_type": "code",
   "execution_count": 1,
   "id": "cb68f2ea-6dbd-48fb-97d8-20b0b30342b1",
   "metadata": {},
   "outputs": [
    {
     "name": "stdout",
     "output_type": "stream",
     "text": [
      "Data type of list_: <class 'list'>\n",
      "Data type of array_list: <class 'numpy.ndarray'>\n"
     ]
    }
   ],
   "source": [
    "import numpy as np\n",
    "\n",
    "list_ = ['1', '2', '3', '4', '5']\n",
    "array_list = np.array(object=list_)\n",
    "\n",
    "print(\"Data type of list_:\", type(list_))\n",
    "print(\"Data type of array_list:\", type(array_list))"
   ]
  },
  {
   "cell_type": "markdown",
   "id": "462bfc39-79d0-4742-9b63-d6cc70f17f9c",
   "metadata": {},
   "source": [
    "Q2. Write a code to print the data type of each and every element of both the variables list_ and array_list.\n",
    "\n"
   ]
  },
  {
   "cell_type": "code",
   "execution_count": 2,
   "id": "8e498d53-38af-4d68-9660-f171fa38299a",
   "metadata": {},
   "outputs": [
    {
     "name": "stdout",
     "output_type": "stream",
     "text": [
      "Data type of element in list_: <class 'str'>\n",
      "Data type of element in list_: <class 'str'>\n",
      "Data type of element in list_: <class 'str'>\n",
      "Data type of element in list_: <class 'str'>\n",
      "Data type of element in list_: <class 'str'>\n",
      "Data type of element in array_list: <class 'numpy.str_'>\n",
      "Data type of element in array_list: <class 'numpy.str_'>\n",
      "Data type of element in array_list: <class 'numpy.str_'>\n",
      "Data type of element in array_list: <class 'numpy.str_'>\n",
      "Data type of element in array_list: <class 'numpy.str_'>\n"
     ]
    }
   ],
   "source": [
    "for item in list_:\n",
    "    print(\"Data type of element in list_:\", type(item))\n",
    "\n",
    "for item in array_list:\n",
    "    print(\"Data type of element in array_list:\", type(item))"
   ]
  },
  {
   "cell_type": "markdown",
   "id": "316dff15-f005-48f2-a20e-e1cb4ff1fa94",
   "metadata": {},
   "source": [
    "Q3. Considering the following changes in the variable, array_list: array_list = np.array(object = list_, dtype = int) Will there be any difference in the data type of the elements present in both the variables, list_ and array_list? If so then print the data types of each and every element present in both the variables, list_ and array_list."
   ]
  },
  {
   "cell_type": "code",
   "execution_count": 3,
   "id": "d060caeb-4524-4e0a-8ed2-aacb1333c024",
   "metadata": {},
   "outputs": [
    {
     "name": "stdout",
     "output_type": "stream",
     "text": [
      "Data type of element in list_: <class 'str'>\n",
      "Data type of element in list_: <class 'str'>\n",
      "Data type of element in list_: <class 'str'>\n",
      "Data type of element in list_: <class 'str'>\n",
      "Data type of element in list_: <class 'str'>\n",
      "Data type of element in array_list: <class 'numpy.int64'>\n",
      "Data type of element in array_list: <class 'numpy.int64'>\n",
      "Data type of element in array_list: <class 'numpy.int64'>\n",
      "Data type of element in array_list: <class 'numpy.int64'>\n",
      "Data type of element in array_list: <class 'numpy.int64'>\n"
     ]
    }
   ],
   "source": [
    "list_ = ['1', '2', '3', '4', '5']\n",
    "array_list = np.array(object=list_, dtype=int)\n",
    "\n",
    "for item in list_:\n",
    "    print(\"Data type of element in list_:\", type(item))\n",
    "\n",
    "for item in array_list:\n",
    "    print(\"Data type of element in array_list:\", type(item))"
   ]
  },
  {
   "cell_type": "markdown",
   "id": "1f6190aa-e4e5-465e-b825-f1d1fdc31590",
   "metadata": {},
   "source": [
    "Q4. Write a code to find the following characteristics of variable, num_array: (i) shape (ii) size"
   ]
  },
  {
   "cell_type": "code",
   "execution_count": 4,
   "id": "b276428c-948b-4149-8a97-3d8352711bd4",
   "metadata": {},
   "outputs": [
    {
     "name": "stdout",
     "output_type": "stream",
     "text": [
      "Shape of num_array: (2, 3)\n",
      "Size of num_array: 6\n"
     ]
    }
   ],
   "source": [
    "import numpy as np\n",
    "\n",
    "num_list = [[1, 2, 3], [4, 5, 6]]\n",
    "num_array = np.array(object=num_list)\n",
    "\n",
    "print(\"Shape of num_array:\", num_array.shape)\n",
    "print(\"Size of num_array:\", num_array.size)"
   ]
  },
  {
   "cell_type": "markdown",
   "id": "19868fb5-9c94-4085-8ddc-ef4ae071edff",
   "metadata": {},
   "source": [
    "Q5. Write a code to create a numpy array of a 3x3 matrix containing zeros only, using a numpy array creation function."
   ]
  },
  {
   "cell_type": "code",
   "execution_count": 5,
   "id": "aa35fe82-560d-4a1a-92d4-26e6287211dd",
   "metadata": {},
   "outputs": [
    {
     "name": "stdout",
     "output_type": "stream",
     "text": [
      "Zeros array:\n",
      "[[0. 0. 0.]\n",
      " [0. 0. 0.]\n",
      " [0. 0. 0.]]\n"
     ]
    }
   ],
   "source": [
    "import numpy as np\n",
    "\n",
    "zeros_array = np.zeros((3, 3))\n",
    "print(\"Zeros array:\")\n",
    "print(zeros_array)"
   ]
  },
  {
   "cell_type": "markdown",
   "id": "07229090-ccd7-4b21-88ed-e7c374c8a075",
   "metadata": {},
   "source": [
    "Q6. Create an identity matrix of shape (5,5) using numpy functions?"
   ]
  },
  {
   "cell_type": "code",
   "execution_count": 6,
   "id": "4b5ba7a9-30a3-41d8-ada5-8ea0522db0cd",
   "metadata": {},
   "outputs": [
    {
     "name": "stdout",
     "output_type": "stream",
     "text": [
      "Identity matrix:\n",
      "[[1. 0. 0. 0. 0.]\n",
      " [0. 1. 0. 0. 0.]\n",
      " [0. 0. 1. 0. 0.]\n",
      " [0. 0. 0. 1. 0.]\n",
      " [0. 0. 0. 0. 1.]]\n"
     ]
    }
   ],
   "source": [
    "import numpy as np\n",
    "\n",
    "identity_matrix = np.eye(5)\n",
    "print(\"Identity matrix:\")\n",
    "print(identity_matrix)"
   ]
  },
  {
   "cell_type": "code",
   "execution_count": null,
   "id": "45e8f0b8-a82a-44cd-acf7-605422594fc4",
   "metadata": {},
   "outputs": [],
   "source": []
  }
 ],
 "metadata": {
  "kernelspec": {
   "display_name": "Python 3 (ipykernel)",
   "language": "python",
   "name": "python3"
  },
  "language_info": {
   "codemirror_mode": {
    "name": "ipython",
    "version": 3
   },
   "file_extension": ".py",
   "mimetype": "text/x-python",
   "name": "python",
   "nbconvert_exporter": "python",
   "pygments_lexer": "ipython3",
   "version": "3.10.8"
  }
 },
 "nbformat": 4,
 "nbformat_minor": 5
}
